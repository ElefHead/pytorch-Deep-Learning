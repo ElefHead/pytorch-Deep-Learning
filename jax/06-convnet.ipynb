{
 "cells": [
  {
   "cell_type": "code",
   "execution_count": 1,
   "metadata": {},
   "outputs": [],
   "source": [
    "import sys\n",
    "sys.path.append(\"..\")\n",
    "from res.plot_lib import plot_data, plot_model, set_default, plt\n",
    "\n",
    "import numpy as np"
   ]
  },
  {
   "cell_type": "code",
   "execution_count": 2,
   "metadata": {},
   "outputs": [],
   "source": [
    "def plot_np_data(X, y, d=0, auto=False, zoom=1):\n",
    "    plt.scatter(X[:, 0], X[:, 1], c=y, s=20, cmap=plt.cm.Spectral)\n",
    "    plt.axis('square')\n",
    "    plt.axis(np.array((-1.1, 1.1, -1.1, 1.1)) * zoom)\n",
    "    if auto is True: plt.axis('equal')\n",
    "    plt.axis('off')\n",
    "\n",
    "    _m, _c = 0, '.15'\n",
    "    plt.axvline(0, ymin=_m, color=_c, lw=1, zorder=0)\n",
    "    plt.axhline(0, xmin=_m, color=_c, lw=1, zorder=0)"
   ]
  },
  {
   "cell_type": "code",
   "execution_count": 3,
   "metadata": {},
   "outputs": [],
   "source": [
    "import random\n",
    "import jax\n",
    "from jax import numpy as jnp\n",
    "from flax import linen as nn\n",
    "from flax.training import train_state\n",
    "import math\n",
    "import numpy as np\n",
    "import optax\n",
    "\n",
    "import torch\n",
    "from torchvision import datasets, transforms\n",
    "\n",
    "from IPython import display"
   ]
  },
  {
   "cell_type": "code",
   "execution_count": 4,
   "metadata": {},
   "outputs": [],
   "source": [
    "def plot_jax_model(X, y, state):\n",
    "    mesh = np.arange(-1.1, 1.1, 0.01)\n",
    "    xx, yy = np.meshgrid(mesh, mesh)\n",
    "    data = jnp.array(np.vstack((xx.reshape(-1), yy.reshape(-1))).T, dtype=float)\n",
    "    Z = state.apply_fn({\"params\": state.params}, data)\n",
    "    Z = np.argmax(Z, axis=1).reshape(xx.shape)\n",
    "    plt.contourf(xx, yy, Z, cmap=plt.cm.Spectral, alpha=0.3)\n",
    "    plot_np_data(X, y)"
   ]
  },
  {
   "cell_type": "code",
   "execution_count": 5,
   "metadata": {},
   "outputs": [],
   "source": [
    "set_default()"
   ]
  },
  {
   "cell_type": "code",
   "execution_count": 6,
   "metadata": {},
   "outputs": [],
   "source": [
    "seed = 12345\n",
    "random.seed(seed)\n",
    "np.random.seed(seed)\n",
    "key = jax.random.PRNGKey(seed=seed)"
   ]
  },
  {
   "cell_type": "code",
   "execution_count": 7,
   "metadata": {},
   "outputs": [
    {
     "name": "stdout",
     "output_type": "stream",
     "text": [
      "Files already downloaded\n"
     ]
    }
   ],
   "source": [
    "input_size  = 28*28   # images are 28x28 pixels\n",
    "output_size = 10      # there are 10 classes\n",
    "\n",
    "train_loader = torch.utils.data.DataLoader(\n",
    "    datasets.MNIST('mnist-data', train=True, download=True,\n",
    "                   transform=transforms.Compose([\n",
    "                       transforms.ToTensor(),\n",
    "                       transforms.Normalize((0.1307,), (0.3081,))\n",
    "                   ])),\n",
    "    batch_size=64, shuffle=True)\n",
    "\n",
    "test_loader = torch.utils.data.DataLoader(\n",
    "    datasets.MNIST('mnist-data', train=False, transform=transforms.Compose([\n",
    "                       transforms.ToTensor(),\n",
    "                       transforms.Normalize((0.1307,), (0.3081,))\n",
    "                   ])),\n",
    "    batch_size=1000, shuffle=True)"
   ]
  },
  {
   "cell_type": "code",
   "execution_count": 8,
   "metadata": {},
   "outputs": [
    {
     "data": {
      "image/png": "[encoded data removed]",
      "text/plain": [
       "<Figure size 1152x432 with 10 Axes>"
      ]
     },
     "metadata": {
      "needs_background": "dark"
     },
     "output_type": "display_data"
    }
   ],
   "source": [
    "# show some images\n",
    "plt.figure(figsize=(16, 6))\n",
    "for i in range(10):\n",
    "    plt.subplot(2, 5, i + 1)\n",
    "    image, _ = train_loader.dataset.__getitem__(i)\n",
    "    plt.imshow(image.squeeze().numpy())\n",
    "    plt.axis('off');"
   ]
  },
  {
   "cell_type": "code",
   "execution_count": 35,
   "metadata": {},
   "outputs": [],
   "source": [
    "class FC2Layer(nn.Module):\n",
    "    \"\"\"A fully connected 2 layer network\"\"\"\n",
    "    input_size: int\n",
    "    n_hidden: int \n",
    "    output_size: int \n",
    "\n",
    "    @nn.compact\n",
    "    def __call__(self, x: jnp.ndarray):\n",
    "        x = x.reshape((-1, self.input_size))\n",
    "        x = nn.Dense(features=self.n_hidden)(x)\n",
    "        x = nn.relu(x)\n",
    "        x = nn.Dense(features=self.n_hidden)(x)\n",
    "        x = nn.relu(x)\n",
    "        x = nn.Dense(features=self.output_size)(x)\n",
    "\n",
    "        return x\n",
    "\n",
    "\n",
    "class CNN(nn.Module):\n",
    "    \"\"\"A convolutional neural net\"\"\"\n",
    "    n_feature: int \n",
    "    output_size: int\n",
    "\n",
    "    @nn.compact\n",
    "    def __call__(self, x: jnp.ndarray):\n",
    "        x = jnp.transpose(x, axes=(0, 2, 3, 1))\n",
    "        x = nn.Conv(features=self.n_feature, kernel_size=(5, 5), padding=\"VALID\")(x)\n",
    "        x = nn.relu(x)\n",
    "        x = nn.max_pool(x, window_shape=(2, 2))\n",
    "        x = nn.Conv(features=self.n_feature, kernel_size=(5, 5), padding=\"VALID\")(x)\n",
    "        x = nn.relu(x)\n",
    "        x = nn.max_pool(x, window_shape=(2, 2))\n",
    "        x = x.reshape((x.shape[0], -1))\n",
    "        x = nn.Dense(features=self.n_feature*4*4)(x)\n",
    "        x = nn.relu(x)\n",
    "        x = nn.Dense(features=self.output_size)(x)\n",
    "        \n",
    "        return x"
   ]
  },
  {
   "cell_type": "code",
   "execution_count": 36,
   "metadata": {},
   "outputs": [],
   "source": [
    "@jax.jit\n",
    "def train_step(state: train_state.TrainState, inputs: jnp.ndarray, labels: jnp.ndarray):\n",
    "    def compute_loss(params):\n",
    "        logits = state.apply_fn({\"params\": params}, inputs)\n",
    "        labels_onehot = jax.nn.one_hot(labels, num_classes=10)\n",
    "        cross_entropy_logloss = jnp.mean(optax.softmax_cross_entropy(logits=logits, labels=labels_onehot))\n",
    "        \n",
    "        return cross_entropy_logloss\n",
    "\n",
    "    loss = compute_loss(params = state.params)\n",
    "    grad_fn = jax.grad(compute_loss, has_aux=False)\n",
    "    grads = grad_fn(state.params)\n",
    "    state = state.apply_gradients(grads=grads)\n",
    "    accuracy = jnp.mean(jnp.argmax(state.apply_fn({\"params\": state.params}, inputs), -1) == labels)\n",
    "    metrics = {\n",
    "      'loss': loss,\n",
    "      'accuracy': accuracy,\n",
    "    }\n",
    "    return state, metrics\n",
    "\n",
    "@jax.jit\n",
    "def evaluate(state: train_state.TrainState, inputs: jnp.ndarray):\n",
    "    return state.apply_fn({\"params\": state.params}, inputs)"
   ]
  },
  {
   "cell_type": "code",
   "execution_count": 37,
   "metadata": {},
   "outputs": [],
   "source": [
    "def create_training_state(model: nn.Module, rng: jax.random.PRNGKey, init_input_array: jnp.ndarray, \n",
    "                          learning_rate: float, momentum: float):\n",
    "    params = model.init(rng, init_input_array).get(\"params\")\n",
    "    tx = optax.sgd(learning_rate=learning_rate, momentum=momentum)\n",
    "    return train_state.TrainState.create(\n",
    "        params=params,\n",
    "        apply_fn=model.apply,\n",
    "        tx=tx\n",
    "    )"
   ]
  },
  {
   "cell_type": "code",
   "execution_count": 38,
   "metadata": {},
   "outputs": [],
   "source": [
    "def train(epoch, state, perm=np.arange(0, 784)):\n",
    "    epoch_loss, epoch_accuracy = [], []\n",
    "    for batch_idx, (data, target) in enumerate(train_loader):\n",
    "        data, target = jnp.array(data.numpy()), jnp.array(target.numpy())\n",
    "\n",
    "        data = data.reshape((-1, 28*28))\n",
    "        data = data[:, perm]\n",
    "        data = data.reshape((-1, 1, 28, 28))\n",
    "\n",
    "        state, metrics = train_step(state=state, inputs=data, labels=target)\n",
    "        epoch_loss.append(metrics.get(\"loss\"))\n",
    "        epoch_accuracy.append(metrics.get(\"accuracy\"))\n",
    "\n",
    "        if batch_idx % 100 == 0:\n",
    "            print(f\"Train epoch: {epoch} [{batch_idx*len(data)}/{len(train_loader.dataset)}], loss = {metrics.get('loss')}\")\n",
    "\n",
    "    return state, np.mean(epoch_loss), np.mean(epoch_accuracy)\n",
    "\n",
    "def test(state, perm=np.arange(0, 784)):\n",
    "    correct = 0\n",
    "    for data, target in test_loader:\n",
    "        data, target = jnp.array(data.numpy()), jnp.array(target.numpy())\n",
    "\n",
    "        data = data.reshape((-1, 28*28))\n",
    "        data = data[:, perm]\n",
    "        data = data.reshape((-1, 1, 28, 28))\n",
    "\n",
    "        logits = evaluate(state=state, inputs=data)\n",
    "        prediction = np.argmax(logits, axis=-1).reshape((-1, 1))\n",
    "        correct += np.sum(np.equal(target.reshape((-1, 1)), prediction))\n",
    "\n",
    "    accuracy = 100 * correct / len(test_loader.dataset)\n",
    "    print(f\"Test accuracy = {accuracy}\")"
   ]
  },
  {
   "attachments": {},
   "cell_type": "markdown",
   "metadata": {},
   "source": [
    "## Train a small fully-connected network"
   ]
  },
  {
   "cell_type": "code",
   "execution_count": 13,
   "metadata": {},
   "outputs": [
    {
     "name": "stdout",
     "output_type": "stream",
     "text": [
      "Train epoch: 0 [0/60000], loss = 2.4631207259371877\n",
      "Train epoch: 0 [6400/60000], loss = 1.5814386935671791\n",
      "Train epoch: 0 [12800/60000], loss = 1.1365695723798126\n",
      "Train epoch: 0 [19200/60000], loss = 0.755014548649342\n",
      "Train epoch: 0 [25600/60000], loss = 1.0089040628372459\n",
      "Train epoch: 0 [32000/60000], loss = 0.4243820053206946\n",
      "Train epoch: 0 [38400/60000], loss = 0.5418227097893293\n",
      "Train epoch: 0 [44800/60000], loss = 0.6387840375682572\n",
      "Train epoch: 0 [51200/60000], loss = 0.5867926106176355\n",
      "Train epoch: 0 [57600/60000], loss = 0.3795636879350752\n",
      "Mean train accuracy = 0.7246968150138855\n",
      "Test accuracy = 88.3\n"
     ]
    }
   ],
   "source": [
    "n_hidden = 8\n",
    "\n",
    "fcn_model = FC2Layer(input_size=28*28, n_hidden=n_hidden, output_size=10)\n",
    "state = create_training_state(\n",
    "    model=fcn_model,\n",
    "    rng=key,\n",
    "    init_input_array=jnp.ones(shape=(2, 1, 28, 28)),\n",
    "    learning_rate=0.01,\n",
    "    momentum=0.5\n",
    ")\n",
    "\n",
    "for epoch in range(0,1):\n",
    "    state, loss, accuracy = train(epoch=epoch, state=state)\n",
    "    print(f\"Mean train accuracy = {accuracy}\")\n",
    "    test(state=state)"
   ]
  },
  {
   "cell_type": "markdown",
   "metadata": {},
   "source": [
    "## Train a Convnet with the same number of params"
   ]
  },
  {
   "cell_type": "code",
   "execution_count": 39,
   "metadata": {},
   "outputs": [
    {
     "name": "stdout",
     "output_type": "stream",
     "text": [
      "Train epoch: 0 [0/60000], loss = 2.410270346328616\n",
      "Train epoch: 0 [6400/60000], loss = 0.24286423891237519\n",
      "Train epoch: 0 [12800/60000], loss = 0.24869834802125013\n",
      "Train epoch: 0 [19200/60000], loss = 0.07757386445627645\n",
      "Train epoch: 0 [25600/60000], loss = 0.11621862320303755\n",
      "Train epoch: 0 [32000/60000], loss = 0.06887502506250343\n",
      "Train epoch: 0 [38400/60000], loss = 0.10124734343257202\n",
      "Train epoch: 0 [44800/60000], loss = 0.10737445630341114\n",
      "Train epoch: 0 [51200/60000], loss = 0.09020477139751826\n",
      "Train epoch: 0 [57600/60000], loss = 0.12468210242930766\n",
      "Mean train accuracy = 0.9724646806716919\n",
      "Test accuracy = 97.86\n"
     ]
    }
   ],
   "source": [
    "n_features = 6\n",
    "\n",
    "model_cnn = CNN(\n",
    "    n_feature=n_features,\n",
    "    output_size=output_size\n",
    ")\n",
    "\n",
    "state = create_training_state(\n",
    "    model=model_cnn,\n",
    "    rng=key,\n",
    "    init_input_array=jnp.ones(shape=(2, 1, 28, 28)),\n",
    "    learning_rate=0.01,\n",
    "    momentum=0.5\n",
    ")\n",
    "\n",
    "for epoch in range(0,1):\n",
    "    state, loss, accuracy = train(epoch=epoch, state=state)\n",
    "    print(f\"Mean train accuracy = {accuracy}\")\n",
    "    test(state=state)"
   ]
  },
  {
   "cell_type": "markdown",
   "metadata": {},
   "source": [
    "# The ConvNet performs better with the same number of parameters, thanks to its use of prior knowledge about images\n",
    "\n",
    "* Use of convolution: Locality and stationarity in images\n",
    "* Pooling: builds in some translation invariance\n",
    "\n",
    "# What happens if the assumptions are no longer true?\n"
   ]
  },
  {
   "cell_type": "code",
   "execution_count": 40,
   "metadata": {},
   "outputs": [
    {
     "data": {
      "image/png": "[encoded data removed]",
      "text/plain": [
       "<Figure size 1152x864 with 20 Axes>"
      ]
     },
     "metadata": {
      "needs_background": "dark"
     },
     "output_type": "display_data"
    }
   ],
   "source": [
    "perm = torch.randperm(784)\n",
    "plt.figure(figsize=(16, 12))\n",
    "for i in range(10):\n",
    "    image, _ = train_loader.dataset.__getitem__(i)\n",
    "    # permute pixels\n",
    "    image_perm = image.view(-1, 28*28).clone()\n",
    "    image_perm = image_perm[:, perm]\n",
    "    image_perm = image_perm.view(-1, 1, 28, 28)\n",
    "    plt.subplot(4, 5, i + 1)\n",
    "    plt.imshow(image.squeeze().numpy())\n",
    "    plt.axis('off')\n",
    "    plt.subplot(4, 5, i + 11)\n",
    "    plt.imshow(image_perm.squeeze().numpy())\n",
    "    plt.axis('off')"
   ]
  },
  {
   "cell_type": "markdown",
   "metadata": {},
   "source": [
    "# ConvNet with permuted pixels"
   ]
  },
  {
   "cell_type": "code",
   "execution_count": 43,
   "metadata": {},
   "outputs": [
    {
     "name": "stdout",
     "output_type": "stream",
     "text": [
      "Train epoch: 0 [0/60000], loss = 2.3925074096769094\n",
      "Train epoch: 0 [6400/60000], loss = 0.5090667887707241\n",
      "Train epoch: 0 [12800/60000], loss = 0.4500707820925527\n",
      "Train epoch: 0 [19200/60000], loss = 0.2746566579817227\n",
      "Train epoch: 0 [25600/60000], loss = 0.3887696179388058\n",
      "Train epoch: 0 [32000/60000], loss = 0.27138588775483186\n",
      "Train epoch: 0 [38400/60000], loss = 0.37039270255576184\n",
      "Train epoch: 0 [44800/60000], loss = 0.21511688029357856\n",
      "Train epoch: 0 [51200/60000], loss = 0.222780406004631\n",
      "Train epoch: 0 [57600/60000], loss = 0.11881311429647212\n",
      "Mean train accuracy = 0.8989372253417969\n",
      "Test accuracy = 92.58\n"
     ]
    }
   ],
   "source": [
    "n_features = 6\n",
    "\n",
    "model_cnn = CNN(\n",
    "    n_feature=n_features,\n",
    "    output_size=output_size\n",
    ")\n",
    "\n",
    "state = create_training_state(\n",
    "    model=model_cnn,\n",
    "    rng=key,\n",
    "    init_input_array=jnp.ones(shape=(2, 1, 28, 28)),\n",
    "    learning_rate=0.01,\n",
    "    momentum=0.5\n",
    ")\n",
    "\n",
    "for epoch in range(0,1):\n",
    "    state, loss, accuracy = train(epoch=epoch, state=state, perm=perm.numpy())\n",
    "    print(f\"Mean train accuracy = {accuracy}\")\n",
    "    test(state=state, perm=perm.numpy())"
   ]
  },
  {
   "cell_type": "markdown",
   "metadata": {},
   "source": [
    "# Fully-Connected with Permuted Pixels"
   ]
  },
  {
   "cell_type": "code",
   "execution_count": 46,
   "metadata": {},
   "outputs": [
    {
     "name": "stdout",
     "output_type": "stream",
     "text": [
      "Train epoch: 0 [0/60000], loss = 2.327005112543702\n",
      "Train epoch: 0 [6400/60000], loss = 1.6008871184894815\n",
      "Train epoch: 0 [12800/60000], loss = 1.2409695260575972\n",
      "Train epoch: 0 [19200/60000], loss = 0.9050692732562311\n",
      "Train epoch: 0 [25600/60000], loss = 0.5749205302890914\n",
      "Train epoch: 0 [32000/60000], loss = 0.4646576050326985\n",
      "Train epoch: 0 [38400/60000], loss = 0.2772768550203182\n",
      "Train epoch: 0 [44800/60000], loss = 0.4882042231606647\n",
      "Train epoch: 0 [51200/60000], loss = 0.3956892474958238\n",
      "Train epoch: 0 [57600/60000], loss = 0.18575538707864325\n",
      "Mean train accuracy = 0.758029043674469\n",
      "Test accuracy = 88.27\n"
     ]
    }
   ],
   "source": [
    "n_hidden = 8\n",
    "\n",
    "fcn_model = FC2Layer(input_size=28*28, n_hidden=n_hidden, output_size=10)\n",
    "state = create_training_state(\n",
    "    model=fcn_model,\n",
    "    rng=key,\n",
    "    init_input_array=jnp.ones(shape=(2, 1, 28, 28)),\n",
    "    learning_rate=0.01,\n",
    "    momentum=0.5\n",
    ")\n",
    "\n",
    "for epoch in range(0,1):\n",
    "    state, loss, accuracy = train(epoch=epoch, state=state, perm=perm.numpy())\n",
    "    print(f\"Mean train accuracy = {accuracy}\")\n",
    "    test(state=state, perm=perm.numpy())"
   ]
  },
  {
   "cell_type": "code",
   "execution_count": null,
   "metadata": {},
   "outputs": [],
   "source": []
  }
 ],
 "metadata": {
  "kernelspec": {
   "display_name": "Python 3",
   "language": "python",
   "name": "python3"
  },
  "language_info": {
   "codemirror_mode": {
    "name": "ipython",
    "version": 3
   },
   "file_extension": ".py",
   "mimetype": "text/x-python",
   "name": "python",
   "nbconvert_exporter": "python",
   "pygments_lexer": "ipython3",
   "version": "3.8.10"
  },
  "orig_nbformat": 4,
  "vscode": {
   "interpreter": {
    "hash": "916dbcbb3f70747c44a77c7bcd40155683ae19c65e1c03b4aa3499c5328201f1"
   }
  }
 },
 "nbformat": 4,
 "nbformat_minor": 2
}
